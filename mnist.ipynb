{
  "nbformat": 4,
  "nbformat_minor": 0,
  "metadata": {
    "colab": {
      "name": "mnist.ipynb",
      "provenance": [],
      "collapsed_sections": [],
      "authorship_tag": "ABX9TyMonk/N+wmougtWubDtjnXn"
    },
    "kernelspec": {
      "name": "python3",
      "display_name": "Python 3"
    },
    "language_info": {
      "name": "python"
    },
    "accelerator": "GPU"
  },
  "cells": [
    {
      "cell_type": "code",
      "metadata": {
        "id": "vDk308KBY7pK"
      },
      "source": [
        "import numpy as np\n",
        "import pandas as pd\n",
        "from tensorflow import keras\n",
        "from tensorflow.keras import layers\n",
        "import matplotlib.pyplot as plt\n",
        "import seaborn as sns\n",
        "\n",
        "from sklearn.metrics import confusion_matrix, classification_report\n"
      ],
      "execution_count": null,
      "outputs": []
    },
    {
      "cell_type": "code",
      "metadata": {
        "id": "wtMDA92sZJij",
        "colab": {
          "base_uri": "https://localhost:8080/"
        },
        "outputId": "7fe3146c-d7c0-4cd4-deea-0cba1a2a9735"
      },
      "source": [
        "# Carregando os dados e avaliando o balanceamento\n",
        "\n",
        "(x_train, y_train), (x_test, y_test) = keras.datasets.mnist.load_data()\n",
        "\n",
        "pd.value_counts(y_train)"
      ],
      "execution_count": null,
      "outputs": [
        {
          "output_type": "stream",
          "name": "stdout",
          "text": [
            "Downloading data from https://storage.googleapis.com/tensorflow/tf-keras-datasets/mnist.npz\n",
            "11493376/11490434 [==============================] - 0s 0us/step\n",
            "11501568/11490434 [==============================] - 0s 0us/step\n"
          ]
        },
        {
          "output_type": "execute_result",
          "data": {
            "text/plain": [
              "1    6742\n",
              "7    6265\n",
              "3    6131\n",
              "2    5958\n",
              "9    5949\n",
              "0    5923\n",
              "6    5918\n",
              "8    5851\n",
              "4    5842\n",
              "5    5421\n",
              "dtype: int64"
            ]
          },
          "metadata": {},
          "execution_count": 2
        }
      ]
    },
    {
      "cell_type": "code",
      "metadata": {
        "id": "uYN43txUgn44"
      },
      "source": [
        "# Normalizando e obtendo dummies das saídas\n",
        "x_train = x_train/255\n",
        "x_test = x_test/255\n",
        "y_train = pd.get_dummies(y_train)\n",
        "y_test = pd.get_dummies(y_test)"
      ],
      "execution_count": null,
      "outputs": []
    },
    {
      "cell_type": "code",
      "metadata": {
        "colab": {
          "base_uri": "https://localhost:8080/",
          "height": 265
        },
        "id": "UM1hGPpZZwMd",
        "outputId": "37c852e5-d999-4540-b506-77a73e118b07"
      },
      "source": [
        "# Visualizando uma das amostras\n",
        "plt.figure()\n",
        "plt.imshow(x_train[0], cmap='gray')\n",
        "plt.show()"
      ],
      "execution_count": null,
      "outputs": [
        {
          "output_type": "display_data",
          "data": {
            "image/png": "[encoded data removed]",
            "text/plain": [
              "<Figure size 432x288 with 1 Axes>"
            ]
          },
          "metadata": {
            "needs_background": "light"
          }
        }
      ]
    },
    {
      "cell_type": "code",
      "metadata": {
        "colab": {
          "base_uri": "https://localhost:8080/"
        },
        "id": "e7MMxltjbCnK",
        "outputId": "c7ee5f8e-52ab-48b8-f836-5768503e2c64"
      },
      "source": [
        "# Criando a rede convolucional\n",
        "\n",
        "inputs = keras.Input(shape=(28,28,1))\n",
        "\n",
        "x = layers.Conv2D(filters=64, kernel_size=3, strides=1, padding='valid', activation='relu')(inputs)\n",
        "x = layers.BatchNormalization()(x)\n",
        "x = layers.Dropout(0.2)(x)\n",
        "\n",
        "x = layers.Conv2D(filters=32, kernel_size=3, strides=1, padding='valid', activation='relu')(x)\n",
        "x = layers.BatchNormalization()(x)\n",
        "x = layers.Dropout(0.2)(x)\n",
        "\n",
        "x = layers.Flatten()(x)\n",
        "x = layers.Dense(50, activation='relu')(x)\n",
        "outputs = layers.Dense(10, activation='softmax')(x)\n",
        "\n",
        "model = keras.Model(inputs=inputs, outputs=outputs)\n",
        "\n",
        "model.compile(optimizer='adam', loss='categorical_crossentropy', metrics=['accuracy', keras.metrics.Precision(), keras.metrics.Recall()])\n",
        "\n",
        "model.summary()"
      ],
      "execution_count": null,
      "outputs": [
        {
          "output_type": "stream",
          "name": "stdout",
          "text": [
            "Model: \"model\"\n",
            "_________________________________________________________________\n",
            " Layer (type)                Output Shape              Param #   \n",
            "=================================================================\n",
            " input_1 (InputLayer)        [(None, 28, 28, 1)]       0         \n",
            "                                                                 \n",
            " conv2d (Conv2D)             (None, 26, 26, 64)        640       \n",
            "                                                                 \n",
            " batch_normalization (BatchN  (None, 26, 26, 64)       256       \n",
            " ormalization)                                                   \n",
            "                                                                 \n",
            " dropout (Dropout)           (None, 26, 26, 64)        0         \n",
            "                                                                 \n",
            " conv2d_1 (Conv2D)           (None, 24, 24, 32)        18464     \n",
            "                                                                 \n",
            " batch_normalization_1 (Batc  (None, 24, 24, 32)       128       \n",
            " hNormalization)                                                 \n",
            "                                                                 \n",
            " dropout_1 (Dropout)         (None, 24, 24, 32)        0         \n",
            "                                                                 \n",
            " flatten (Flatten)           (None, 18432)             0         \n",
            "                                                                 \n",
            " dense (Dense)               (None, 50)                921650    \n",
            "                                                                 \n",
            " dense_1 (Dense)             (None, 10)                510       \n",
            "                                                                 \n",
            "=================================================================\n",
            "Total params: 941,648\n",
            "Trainable params: 941,456\n",
            "Non-trainable params: 192\n",
            "_________________________________________________________________\n"
          ]
        }
      ]
    },
    {
      "cell_type": "code",
      "metadata": {
        "colab": {
          "base_uri": "https://localhost:8080/"
        },
        "id": "nLYsP3HWd8-T",
        "outputId": "3a73af49-21f8-4949-d724-6cf1ca05a9fe"
      },
      "source": [
        "# Treinando o modelo\n",
        "hist = model.fit(x_train, y_train, batch_size=64, epochs=10, validation_split=0.2) # 20% para validação"
      ],
      "execution_count": null,
      "outputs": [
        {
          "output_type": "stream",
          "name": "stdout",
          "text": [
            "Epoch 1/10\n",
            "750/750 [==============================] - 12s 17ms/step - loss: 0.0077 - accuracy: 0.9979 - precision: 0.9980 - recall: 0.9979 - val_loss: 0.0441 - val_accuracy: 0.9908 - val_precision: 0.9908 - val_recall: 0.9907\n",
            "Epoch 2/10\n",
            "750/750 [==============================] - 12s 16ms/step - loss: 0.0037 - accuracy: 0.9987 - precision: 0.9987 - recall: 0.9987 - val_loss: 0.0345 - val_accuracy: 0.9921 - val_precision: 0.9925 - val_recall: 0.9919\n",
            "Epoch 3/10\n",
            "750/750 [==============================] - 12s 16ms/step - loss: 0.0054 - accuracy: 0.9984 - precision: 0.9984 - recall: 0.9984 - val_loss: 0.0516 - val_accuracy: 0.9893 - val_precision: 0.9896 - val_recall: 0.9892\n",
            "Epoch 4/10\n",
            "750/750 [==============================] - 12s 16ms/step - loss: 0.0081 - accuracy: 0.9978 - precision: 0.9978 - recall: 0.9978 - val_loss: 0.0484 - val_accuracy: 0.9910 - val_precision: 0.9912 - val_recall: 0.9909\n",
            "Epoch 5/10\n",
            "750/750 [==============================] - 12s 16ms/step - loss: 0.0049 - accuracy: 0.9985 - precision: 0.9985 - recall: 0.9985 - val_loss: 0.0506 - val_accuracy: 0.9898 - val_precision: 0.9899 - val_recall: 0.9898\n",
            "Epoch 6/10\n",
            "750/750 [==============================] - 12s 16ms/step - loss: 0.0060 - accuracy: 0.9982 - precision: 0.9982 - recall: 0.9982 - val_loss: 0.0552 - val_accuracy: 0.9894 - val_precision: 0.9897 - val_recall: 0.9893\n",
            "Epoch 7/10\n",
            "750/750 [==============================] - 12s 16ms/step - loss: 0.0069 - accuracy: 0.9983 - precision: 0.9983 - recall: 0.9982 - val_loss: 0.0465 - val_accuracy: 0.9921 - val_precision: 0.9922 - val_recall: 0.9919\n",
            "Epoch 8/10\n",
            "750/750 [==============================] - 12s 16ms/step - loss: 0.0032 - accuracy: 0.9987 - precision: 0.9987 - recall: 0.9987 - val_loss: 0.0457 - val_accuracy: 0.9911 - val_precision: 0.9916 - val_recall: 0.9910\n",
            "Epoch 9/10\n",
            "750/750 [==============================] - 12s 16ms/step - loss: 0.0022 - accuracy: 0.9993 - precision: 0.9994 - recall: 0.9993 - val_loss: 0.0556 - val_accuracy: 0.9903 - val_precision: 0.9903 - val_recall: 0.9902\n",
            "Epoch 10/10\n",
            "750/750 [==============================] - 12s 16ms/step - loss: 0.0033 - accuracy: 0.9991 - precision: 0.9991 - recall: 0.9991 - val_loss: 0.0498 - val_accuracy: 0.9918 - val_precision: 0.9919 - val_recall: 0.9918\n"
          ]
        }
      ]
    },
    {
      "cell_type": "code",
      "metadata": {
        "colab": {
          "base_uri": "https://localhost:8080/"
        },
        "id": "7_j_0GikuJZf",
        "outputId": "a1765551-bb39-4e88-b020-f5cb20c7668a"
      },
      "source": [
        "# Predição dos dados de teste\n",
        "\n",
        "preds = model.predict(x_test)\n",
        "\n",
        "preds = np.array([np.argmax(arr) for arr in preds], dtype=np.int)\n",
        "test = np.array([np.argmax(arr) for arr in y_test.values], dtype=np.int)\n",
        "\n",
        "preds[:10], test[:10]"
      ],
      "execution_count": null,
      "outputs": [
        {
          "output_type": "execute_result",
          "data": {
            "text/plain": [
              "(array([7, 2, 1, 0, 4, 1, 4, 9, 5, 9]), array([7, 2, 1, 0, 4, 1, 4, 9, 5, 9]))"
            ]
          },
          "metadata": {},
          "execution_count": 52
        }
      ]
    },
    {
      "cell_type": "code",
      "metadata": {
        "colab": {
          "base_uri": "https://localhost:8080/"
        },
        "id": "7gBJSku8htL_",
        "outputId": "1864cd6e-10de-40f8-b680-73d7fcfa977c"
      },
      "source": [
        "# Avaliando acurácia, precisão, recall e F1 da classificação dos dados teste\n",
        "print(classification_report(test, preds))"
      ],
      "execution_count": null,
      "outputs": [
        {
          "output_type": "stream",
          "name": "stdout",
          "text": [
            "              precision    recall  f1-score   support\n",
            "\n",
            "           0       0.99      1.00      0.99       980\n",
            "           1       0.99      1.00      1.00      1135\n",
            "           2       0.99      0.98      0.99      1032\n",
            "           3       0.99      0.99      0.99      1010\n",
            "           4       0.99      0.99      0.99       982\n",
            "           5       0.98      0.99      0.99       892\n",
            "           6       0.99      0.99      0.99       958\n",
            "           7       0.99      0.99      0.99      1028\n",
            "           8       0.99      0.99      0.99       974\n",
            "           9       0.99      0.98      0.99      1009\n",
            "\n",
            "    accuracy                           0.99     10000\n",
            "   macro avg       0.99      0.99      0.99     10000\n",
            "weighted avg       0.99      0.99      0.99     10000\n",
            "\n"
          ]
        }
      ]
    },
    {
      "cell_type": "code",
      "metadata": {
        "colab": {
          "base_uri": "https://localhost:8080/",
          "height": 606
        },
        "id": "lpX-GJvF23zp",
        "outputId": "03ad581d-3c8e-4602-ecd2-9a22e50dd507"
      },
      "source": [
        "# Matriz de confusão\n",
        "cm = confusion_matrix(test, preds, normalize='true')\n",
        "\n",
        "plt.figure(figsize=[10,10])\n",
        "sns.heatmap(data=cm, annot=True)\n",
        "plt.xlabel(\"True\")\n",
        "plt.ylabel(\"Preds\")\n",
        "plt.show()"
      ],
      "execution_count": null,
      "outputs": [
        {
          "output_type": "display_data",
          "data": {
            "image/png": "[encoded data removed]",
            "text/plain": [
              "<Figure size 720x720 with 2 Axes>"
            ]
          },
          "metadata": {
            "needs_background": "light"
          }
        }
      ]
    },
    {
      "cell_type": "code",
      "metadata": {
        "colab": {
          "base_uri": "https://localhost:8080/"
        },
        "id": "vVOhkBCLiLLR",
        "outputId": "9e4c3954-3dc9-4cc5-f12c-4553bca58fdb"
      },
      "source": [
        "# Vemos que na matriz de confusão que o 9 é um dos que possuem o menor valor de verdadeiros positivos, tendo falsos negativos no 8, 7 e 4,\n",
        "# e falsos positivos no 0, 1, 3, 4, 5 e 7.\n",
        "# Avaliando quantos são os falsos negativos (poderia retirar o normalize na matriz de confusão tbm):\n",
        "false9s = (preds==9)*(test!=9)\n",
        "pd.value_counts(test[false9s])"
      ],
      "execution_count": null,
      "outputs": [
        {
          "output_type": "execute_result",
          "data": {
            "text/plain": [
              "4    3\n",
              "7    1\n",
              "8    1\n",
              "dtype: int64"
            ]
          },
          "metadata": {},
          "execution_count": 55
        }
      ]
    },
    {
      "cell_type": "code",
      "metadata": {
        "colab": {
          "base_uri": "https://localhost:8080/",
          "height": 213
        },
        "id": "HxpDn6rLlJoa",
        "outputId": "f2e48959-a480-42c5-b197-62af677b439e"
      },
      "source": [
        "# Analizando quais são os falsos negativos do 9. Vemos que algumas imagens\n",
        "# realmente possuem alguma semelhança com o número.\n",
        "\n",
        "img_false9s = x_test[false9s]\n",
        "\n",
        "for i in range(1,6):\n",
        "  plt.subplot(1,5,i)\n",
        "  plt.imshow(img_false9s[i-1], cmap='gray')\n",
        "\n",
        "print(y_test[false9s])"
      ],
      "execution_count": null,
      "outputs": [
        {
          "output_type": "stream",
          "name": "stdout",
          "text": [
            "      0  1  2  3  4  5  6  7  8  9\n",
            "947   0  0  0  0  0  0  0  0  1  0\n",
            "1242  0  0  0  0  1  0  0  0  0  0\n",
            "2130  0  0  0  0  1  0  0  0  0  0\n",
            "4199  0  0  0  0  0  0  0  1  0  0\n",
            "8527  0  0  0  0  1  0  0  0  0  0\n"
          ]
        },
        {
          "output_type": "display_data",
          "data": {
            "image/png": "[encoded data removed]",
            "text/plain": [
              "<Figure size 432x288 with 5 Axes>"
            ]
          },
          "metadata": {
            "needs_background": "light"
          }
        }
      ]
    }
  ]
}